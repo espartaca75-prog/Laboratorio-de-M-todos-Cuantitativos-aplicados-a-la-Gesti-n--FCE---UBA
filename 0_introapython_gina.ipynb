{
  "cells": [
    {
      "cell_type": "markdown",
      "metadata": {
        "id": "view-in-github",
        "colab_type": "text"
      },
      "source": [
        "<a href=\"https://colab.research.google.com/github/espartaca75-prog/LMC--FCE---UBA/blob/main/0_introapython_gina.ipynb\" target=\"_parent\"><img src=\"https://colab.research.google.com/assets/colab-badge.svg\" alt=\"Open In Colab\"/></a>"
      ]
    },
    {
      "cell_type": "markdown",
      "metadata": {
        "id": "L3WS_UbWixlo"
      },
      "source": [
        "# Introducción al lenguaje de programación Python\n",
        "\n",
        "Vamos a cubrir algunos conceptos básicos del lenguaje de programación Python, incluyendo variables y tipos de datos, indexación y segmentación, flujo de control y funciones. Esta versión es solo un esqueleto.\n"
      ]
    },
    {
      "cell_type": "markdown",
      "metadata": {
        "id": "7VeKJR1iY8lR"
      },
      "source": [
        "## Operaciones matemáticas básicas\n",
        "\n",
        "Primero, usemos Python como calculadora para ver su comportamiento. A menudo, las celdas solo muestran una salida, aunque se ejecutan todas las líneas de código. Si desea generar varias a la vez, puede ser útil usar el comando print, como se muestra al final. Python imprimirá explícitamente todas las salidas de cualquier comando print (incluso si hay varias).\n",
        "\n",
        "Al agregar el carácter '#', le indica a Python que ignore los siguientes caracteres en la misma línea. Esto se llama crear un **comentario** y puede ser muy útil para explicar su código a otros.\n"
      ]
    },
    {
      "cell_type": "code",
      "execution_count": null,
      "metadata": {
        "id": "U3hGuMdXXwr1",
        "colab": {
          "base_uri": "https://localhost:8080/"
        },
        "outputId": "7f839ca3-6789-416e-8686-f728e69efc03"
      },
      "outputs": [
        {
          "output_type": "execute_result",
          "data": {
            "text/plain": [
              "2"
            ]
          },
          "metadata": {},
          "execution_count": 208
        }
      ],
      "source": [
        "1+1 # Python va a ignorar todo después del '#'"
      ]
    },
    {
      "cell_type": "code",
      "execution_count": null,
      "metadata": {
        "id": "h4QjhlRdZIlO",
        "colab": {
          "base_uri": "https://localhost:8080/"
        },
        "outputId": "a383123b-72c2-43dc-c367-47c4c1107d64"
      },
      "outputs": [
        {
          "output_type": "execute_result",
          "data": {
            "text/plain": [
              "33.3"
            ]
          },
          "metadata": {},
          "execution_count": 209
        }
      ],
      "source": [
        "333/10"
      ]
    },
    {
      "cell_type": "code",
      "execution_count": null,
      "metadata": {
        "id": "Q8lcepY0ZJfh",
        "colab": {
          "base_uri": "https://localhost:8080/"
        },
        "outputId": "fcb57506-091f-4a4d-ca08-ed1673727f25"
      },
      "outputs": [
        {
          "output_type": "execute_result",
          "data": {
            "text/plain": [
              "1.5"
            ]
          },
          "metadata": {},
          "execution_count": 210
        }
      ],
      "source": [
        "1+1/2 # Python sigue el orden de operaciones"
      ]
    },
    {
      "cell_type": "code",
      "execution_count": null,
      "metadata": {
        "id": "rasjMTsdZQaY",
        "colab": {
          "base_uri": "https://localhost:8080/"
        },
        "outputId": "fdf5150f-8462-49b7-def4-8d0056812574"
      },
      "outputs": [
        {
          "output_type": "execute_result",
          "data": {
            "text/plain": [
              "27"
            ]
          },
          "metadata": {},
          "execution_count": 211
        }
      ],
      "source": [
        "3 ** 3 # Python usa '**' en vez de '^' para exponentes"
      ]
    },
    {
      "cell_type": "code",
      "execution_count": null,
      "metadata": {
        "id": "CIhVVt9Y52ab"
      },
      "outputs": [],
      "source": [
        "# Understanding check: calcule la raíz cuadrada de 356\n"
      ]
    },
    {
      "cell_type": "markdown",
      "metadata": {
        "id": "r0dz5f-GZZbW"
      },
      "source": [
        "## Variables\n",
        "\n",
        "Una característica muy útil de cualquier lenguaje de programación es la posibilidad de asignar un nombre fijo a las variables. Simplemente use la fórmula:\n",
        "\n",
        "```\n",
        "nombre_variable = valor_deseado\n",
        "```\n",
        "\n",
        "**Nota:** Los nombres de las variables NO DEBEN comenzar con un número ni incluir guiones ni espacios.\n",
        "\n",
        "Después de esto, cada vez que escriba el nombre de la variable, Python hará referencia al valor asignado. Si alguna vez usa el mismo nombre de variable, el valor se sobrescribirá.\n",
        "\n",
        "Python considera todos los tipos de texto como algún tipo de variable o comando. Si alguna vez desea crear o hacer referencia a texto real, debe estar entre comillas. Esto se denomina cadena en Python. Si desea que Python ignore el texto por completo, use '#' para indicar un comentario.\n"
      ]
    },
    {
      "cell_type": "code",
      "execution_count": null,
      "metadata": {
        "id": "BR0APH8EZVQX",
        "colab": {
          "base_uri": "https://localhost:8080/"
        },
        "outputId": "9e9c26e5-420c-4f2d-bd5d-4ba912f83f79"
      },
      "outputs": [
        {
          "output_type": "execute_result",
          "data": {
            "text/plain": [
              "3"
            ]
          },
          "metadata": {},
          "execution_count": 213
        }
      ],
      "source": [
        "a = 1 # Todas las celdas futuras ahora refieren a a como 1\n",
        "b = 2\n",
        "\n",
        "a+b"
      ]
    },
    {
      "cell_type": "code",
      "execution_count": null,
      "metadata": {
        "id": "GuI9bLX1oUxN",
        "colab": {
          "base_uri": "https://localhost:8080/"
        },
        "outputId": "df9e6865-20b6-4a43-d3ba-c69ae4e610f9"
      },
      "outputs": [
        {
          "output_type": "execute_result",
          "data": {
            "text/plain": [
              "3"
            ]
          },
          "metadata": {},
          "execution_count": 214
        }
      ],
      "source": [
        "a, b = 1, 2 # Asigna las variables anteriores de la misma manera pero en una línea\n",
        "a+b"
      ]
    },
    {
      "cell_type": "code",
      "execution_count": null,
      "metadata": {
        "id": "nmLwGwJNoc_U",
        "colab": {
          "base_uri": "https://localhost:8080/"
        },
        "outputId": "214a0959-e894-47b4-ceb5-22ed5004fa9d"
      },
      "outputs": [
        {
          "output_type": "execute_result",
          "data": {
            "text/plain": [
              "1"
            ]
          },
          "metadata": {},
          "execution_count": 215
        }
      ],
      "source": [
        "a = z = 1 # Otra forma de asignar el mismo valor a múltiples variables\n",
        "\n",
        "z"
      ]
    },
    {
      "cell_type": "markdown",
      "metadata": {
        "id": "GuxNtd_252ac"
      },
      "source": [
        "\n",
        "Todas las operaciones matemáticas funcionan igual con variables"
      ]
    },
    {
      "cell_type": "code",
      "execution_count": null,
      "metadata": {
        "id": "dtpGIaWPZjN_",
        "colab": {
          "base_uri": "https://localhost:8080/"
        },
        "outputId": "0a5850b6-b477-4304-d859-b91545d76329"
      },
      "outputs": [
        {
          "output_type": "execute_result",
          "data": {
            "text/plain": [
              "5"
            ]
          },
          "metadata": {},
          "execution_count": 216
        }
      ],
      "source": [
        "a*5"
      ]
    },
    {
      "cell_type": "code",
      "execution_count": null,
      "metadata": {
        "id": "erO3QQ3jc37m",
        "colab": {
          "base_uri": "https://localhost:8080/"
        },
        "outputId": "a0119f23-b221-4f7a-8fa0-5b6fe73342e8"
      },
      "outputs": [
        {
          "output_type": "execute_result",
          "data": {
            "text/plain": [
              "32"
            ]
          },
          "metadata": {},
          "execution_count": 217
        }
      ],
      "source": [
        "b ** 5"
      ]
    },
    {
      "cell_type": "code",
      "execution_count": null,
      "metadata": {
        "id": "wIBHVYW2Zkr3",
        "colab": {
          "base_uri": "https://localhost:8080/"
        },
        "outputId": "b26e7f90-3981-4b04-d596-8a771094c166"
      },
      "outputs": [
        {
          "output_type": "execute_result",
          "data": {
            "text/plain": [
              "502"
            ]
          },
          "metadata": {},
          "execution_count": 218
        }
      ],
      "source": [
        "a = 500 # si vuelven a usar el mismo nombre de variable, sobreescriben el valor anterior\n",
        "\n",
        "a+b"
      ]
    },
    {
      "cell_type": "code",
      "execution_count": null,
      "metadata": {
        "id": "JmwnRDGIv043",
        "colab": {
          "base_uri": "https://localhost:8080/"
        },
        "outputId": "d9c19eaa-3910-4d54-cc9d-fc5e7cf23e7d"
      },
      "outputs": [
        {
          "output_type": "execute_result",
          "data": {
            "text/plain": [
              "502"
            ]
          },
          "metadata": {},
          "execution_count": 219
        }
      ],
      "source": [
        "# Por defecto, Python solo muestra la última línea de salida de una celda\n",
        "\n",
        "a*b # Esta línea se ejecutará en Python, pero como la siguiente línea genera una salida y viene después, solo se mostrará su salida.\n",
        "\n",
        "a+b"
      ]
    },
    {
      "cell_type": "code",
      "execution_count": null,
      "metadata": {
        "id": "mdamvwcNOdeN",
        "colab": {
          "base_uri": "https://localhost:8080/"
        },
        "outputId": "b29dfdcf-bc19-49b7-ffec-72d8144198e2"
      },
      "outputs": [
        {
          "output_type": "stream",
          "name": "stdout",
          "text": [
            "1000 502\n"
          ]
        }
      ],
      "source": [
        "print(a*b, a+b) # usando print y una coma separando items va a mostrar todo"
      ]
    },
    {
      "cell_type": "code",
      "execution_count": null,
      "metadata": {
        "id": "U9RsDfwWZ_iw"
      },
      "outputs": [],
      "source": [
        "#¿Puedo simplemente escribir? # esto generará un error porque Python intentará buscar el valor asignado a cada palabra como variable y no va a encontrar nada"
      ]
    },
    {
      "cell_type": "code",
      "execution_count": null,
      "metadata": {
        "id": "p4lgFDRhNzjo",
        "colab": {
          "base_uri": "https://localhost:8080/"
        },
        "outputId": "941dc875-0e92-41ae-b11f-e6fa2f894ded"
      },
      "outputs": [
        {
          "output_type": "stream",
          "name": "stdout",
          "text": [
            "you can't add strings to numbers\n"
          ]
        }
      ],
      "source": [
        "a = \"you can't add strings to numbers\" # Si deseas generar texto para que Python lo almacene en la memoria, utilizá comillas alrededor del texto para crear una cadena (str para abreviar)\n",
        "print(a)"
      ]
    },
    {
      "cell_type": "code",
      "execution_count": null,
      "metadata": {
        "id": "P8plSRHFaOYP",
        "colab": {
          "base_uri": "https://localhost:8080/",
          "height": 35
        },
        "outputId": "3f5d7e6d-34b4-415d-96ee-dbbc7b0379ef"
      },
      "outputs": [
        {
          "output_type": "execute_result",
          "data": {
            "text/plain": [
              "\"you can't add strings to numbers, but you can add strings together!\""
            ],
            "application/vnd.google.colaboratory.intrinsic+json": {
              "type": "string"
            }
          },
          "metadata": {},
          "execution_count": 223
        }
      ],
      "source": [
        "b = \", but you can add strings together!\"\n",
        "\n",
        "a+b # Incluso podéss concatenar texto"
      ]
    },
    {
      "cell_type": "code",
      "execution_count": null,
      "metadata": {
        "id": "9iSIREPGEV4-"
      },
      "outputs": [],
      "source": [
        "# Understanding check: Asigna el número 82 a la variable llamada meaning_of_life, luego encontrá el resto de la división de meaning of life por 10"
      ]
    },
    {
      "cell_type": "code",
      "execution_count": null,
      "metadata": {
        "id": "h3RId00UE4g8"
      },
      "outputs": [],
      "source": [
        "# Understanding check: asigna el string 'Dude, Where's My Car?' a la variable movie_name, multiplicá movie_name por 3, qué pasa?\n",
        "\n"
      ]
    },
    {
      "cell_type": "markdown",
      "metadata": {
        "id": "kj8xftILbIbh"
      },
      "source": [
        "## Data Types\n",
        "\n",
        "Existen _muchos_ tipos de datos en Python. Para comprobar el tipo de un objeto, usa la función `type()`.\n",
        "\n",
        "Los más comunes que vas a encontrar son:\n",
        "\n",
        "* entero (p. ej., 100)\n",
        "* flotante (p. ej., 100.0)\n",
        "* cadena (p. ej., '¡Hola mundo!')\n",
        "* booleano (p. ej., verdadero)\n",
        "* lista (p. ej., ['uno', 'dos', 'tres'])\n",
        "* tuplas (p. ej., ('uno', 'dos', 'tres'))\n",
        "* diccionario (p. ej., {'mamífero': 'ornitorrinco', 'pez': 'anguila'})\n",
        "* array de NumPy\n",
        "* Pandas Series (en futuros notebooks)\n",
        "* Pandas DataFrame (en futuros notebooks)\n",
        "\n",
        "\n",
        "\n",
        "\n",
        "\n"
      ]
    },
    {
      "cell_type": "markdown",
      "metadata": {
        "id": "W2XI4ysgpS15"
      },
      "source": [
        "### Integers y Floats\n",
        "\n",
        "Estos son los types más comunes que van a encontrar. **Integers son numeros enteros** y **floats tienen decimales**."
      ]
    },
    {
      "cell_type": "code",
      "execution_count": null,
      "metadata": {
        "id": "D6RG79VGiOkN",
        "colab": {
          "base_uri": "https://localhost:8080/"
        },
        "outputId": "ccd29e49-fe73-421f-eafa-a2a18e343601"
      },
      "outputs": [
        {
          "output_type": "stream",
          "name": "stdout",
          "text": [
            "<class 'int'> <class 'float'>\n"
          ]
        }
      ],
      "source": [
        "a = 5\n",
        "\n",
        "b = 5.0\n",
        "\n",
        "print(type(a), type(b))"
      ]
    },
    {
      "cell_type": "code",
      "execution_count": null,
      "metadata": {
        "id": "L-qC2xiEo1oH",
        "colab": {
          "base_uri": "https://localhost:8080/"
        },
        "outputId": "c2c327a1-5178-4daf-d16c-0291881c7ca7"
      },
      "outputs": [
        {
          "output_type": "execute_result",
          "data": {
            "text/plain": [
              "5"
            ]
          },
          "metadata": {},
          "execution_count": 227
        }
      ],
      "source": [
        "int(b) # convierte b a integer, noten que si no lo asignamos de nuevo a b ejecutando 'b=int(b)', b no va a cambiar"
      ]
    },
    {
      "cell_type": "code",
      "execution_count": null,
      "metadata": {
        "id": "BFP8duKUo-f8",
        "colab": {
          "base_uri": "https://localhost:8080/"
        },
        "outputId": "5ac907e7-3dd7-438d-d794-514d1de03dfe"
      },
      "outputs": [
        {
          "output_type": "execute_result",
          "data": {
            "text/plain": [
              "5"
            ]
          },
          "metadata": {},
          "execution_count": 228
        }
      ],
      "source": [
        "b = int(b)\n",
        "\n",
        "b"
      ]
    },
    {
      "cell_type": "markdown",
      "metadata": {
        "id": "HOfwItbGpnGv"
      },
      "source": [
        "### Strings\n",
        "\n",
        "Strings son como pedacitos de texto. Siempre están entre comillas, simples o dobles. Podés convertir números a str también. En ese caso van a pasar a tener todas las propiedades del str."
      ]
    },
    {
      "cell_type": "code",
      "execution_count": null,
      "metadata": {
        "id": "OD6thTMwi9b9"
      },
      "outputs": [],
      "source": [
        "c = \"cualquier texto entre comillas simples o dobles es string\"\n",
        "d = 'cualquier texto entre comillas simples o dobles es string'"
      ]
    },
    {
      "cell_type": "code",
      "execution_count": null,
      "metadata": {
        "id": "3ImbP2TmpQCs",
        "colab": {
          "base_uri": "https://localhost:8080/",
          "height": 35
        },
        "outputId": "b1e47628-b8e1-4995-ae92-648434a61031"
      },
      "outputs": [
        {
          "output_type": "execute_result",
          "data": {
            "text/plain": [
              "'5555555555'"
            ],
            "application/vnd.google.colaboratory.intrinsic+json": {
              "type": "string"
            }
          },
          "metadata": {},
          "execution_count": 230
        }
      ],
      "source": [
        "a = str(a) # Si queremos convertir el número que asignamos a a en string, podemos usar la función str()\n",
        "\n",
        "a*10 # Ahora, en lugar de 5*10, Python ejecuta '5'*10, por lo que pegará '5' 10 veces."
      ]
    },
    {
      "cell_type": "code",
      "execution_count": null,
      "metadata": {
        "id": "nayOBSjtwFeb",
        "colab": {
          "base_uri": "https://localhost:8080/"
        },
        "outputId": "74ac0897-34e7-46fe-9deb-b8d88b7138d4"
      },
      "outputs": [
        {
          "output_type": "execute_result",
          "data": {
            "text/plain": [
              "50"
            ]
          },
          "metadata": {},
          "execution_count": 231
        }
      ],
      "source": [
        "a = int(a) # Podés cambiar una cadena a un número nuevamente usando int() o float()\n",
        "\n",
        "a*10"
      ]
    },
    {
      "cell_type": "code",
      "execution_count": null,
      "metadata": {
        "id": "HegZNoglp9Rw",
        "colab": {
          "base_uri": "https://localhost:8080/"
        },
        "outputId": "5310d842-eb45-4612-9b26-61d76639ce64"
      },
      "outputs": [
        {
          "output_type": "stream",
          "name": "stdout",
          "text": [
            "c a\n"
          ]
        }
      ],
      "source": [
        "print(c[0], c[2]) # Podés encontrar la enésima letra de un string encerrando n-1 entre corchetes (ya que Python comienza a contar en 0)"
      ]
    },
    {
      "cell_type": "code",
      "execution_count": null,
      "metadata": {
        "id": "-K1ZpgZcqThq",
        "colab": {
          "base_uri": "https://localhost:8080/"
        },
        "outputId": "84229844-8af3-4cb1-e9b6-af2277ac5a2b"
      },
      "outputs": [
        {
          "output_type": "execute_result",
          "data": {
            "text/plain": [
              "57"
            ]
          },
          "metadata": {},
          "execution_count": 233
        }
      ],
      "source": [
        "len(c) #Le proporciona el número de caracteres en la cadena, lo que puede ser útil en el procesamiento del lenguaje natural (PLN) y más."
      ]
    },
    {
      "cell_type": "markdown",
      "metadata": {
        "id": "f5svR07652ae"
      },
      "source": [
        "Los **Strings** también tienen muchos métodos asociados. Podés verlos acá: https://docs.python.org/3/library/stdtypes.html#string-methods ."
      ]
    },
    {
      "cell_type": "code",
      "execution_count": null,
      "metadata": {
        "id": "eMbNWJ2252ae",
        "colab": {
          "base_uri": "https://localhost:8080/",
          "height": 35
        },
        "outputId": "28b06d1b-d794-4419-a97f-97ea5df2df14"
      },
      "outputs": [
        {
          "output_type": "execute_result",
          "data": {
            "text/plain": [
              "'SHE SELLS SEA SHELLS BY THE SEA SHORE'"
            ],
            "application/vnd.google.colaboratory.intrinsic+json": {
              "type": "string"
            }
          },
          "metadata": {},
          "execution_count": 234
        }
      ],
      "source": [
        "sea_shells = 'she sells sea shells by the sea shore'\n",
        "\n",
        "sea_shells.upper() # método de mayúsculas, esto no sobrescribe la variable en mayúsculas"
      ]
    },
    {
      "cell_type": "code",
      "execution_count": null,
      "metadata": {
        "id": "9fKAvlrr52af"
      },
      "outputs": [],
      "source": [
        "# Understanding check: Divida el string por un espacio en blanco (' ') utilizando un método y un argumento apropiado\n",
        "\n"
      ]
    },
    {
      "cell_type": "markdown",
      "metadata": {
        "id": "Df7IJwUaj18-"
      },
      "source": [
        "### Booleans\n",
        "\n",
        "**Los booleans** toman dos valores posibles (prestá atención al uso de mayúsculas):\n",
        "* `True`\n",
        "* `False`\n",
        "\n",
        "Estos se pueden usar para evaluar condiciones, por ejemplo, al comparar el valor de diferentes variables. Específicamente, podés crear condiciones usando uno de los siguientes operadores de comparación:\n",
        "* `==` es igual (recuerde que el operador `=` representa una asignación en Python)\n",
        "* `!=` no es igual a\n",
        "* `>=` mayor o igual a\n",
        "* `<=` menor o igual a\n",
        "* `is` y `is not` también producen valores booleanos; sin embargo, requieren coincidencias de identidad exactas, a diferencia de `==` y `!=`.\n",
        "\n",
        "Tené en cuenta que muchas otras funciones y sintaxis devuelven valores booleanos. Por ejemplo, existe la función ``` isinstance(x, var_type) ``` que devuelve el valor booleano correspondiente si la variable x es equivalente al tipo especificado. Verificá siempre las salidas de las funciones para gestionar sus tipos de datos eficazmente.\n",
        "\n",
        "\"True\" también corresponde al valor \"1\", mientras que \"False\" corresponde a \"0\".\n"
      ]
    },
    {
      "cell_type": "code",
      "execution_count": null,
      "metadata": {
        "id": "m6cC6-oAjzXP",
        "colab": {
          "base_uri": "https://localhost:8080/"
        },
        "outputId": "f34fd5bd-9c98-4d1b-b80b-b1e4b9e327d0"
      },
      "outputs": [
        {
          "output_type": "stream",
          "name": "stdout",
          "text": [
            "False True True False\n"
          ]
        }
      ],
      "source": [
        "e = 5\n",
        "\n",
        "f = 5.00\n",
        "\n",
        "print(e>f, e==f,  e>=f, e!=f)"
      ]
    },
    {
      "cell_type": "code",
      "execution_count": null,
      "metadata": {
        "id": "nStSbQYirHaV",
        "colab": {
          "base_uri": "https://localhost:8080/"
        },
        "outputId": "a2629bd8-35fd-44be-a61a-7d55865e6af9"
      },
      "outputs": [
        {
          "output_type": "stream",
          "name": "stdout",
          "text": [
            "False\n"
          ]
        }
      ],
      "source": [
        "print(e is f) # Tené en cuenta que, dado que e no es exactamente lo mismo que f, \"es\" devuelve False."
      ]
    },
    {
      "cell_type": "code",
      "execution_count": null,
      "metadata": {
        "id": "reU_bEd1lut3",
        "colab": {
          "base_uri": "https://localhost:8080/"
        },
        "outputId": "5c25aa5a-464a-412e-81cf-6e8f49aef6b0"
      },
      "outputs": [
        {
          "output_type": "stream",
          "name": "stdout",
          "text": [
            "True\n"
          ]
        }
      ],
      "source": [
        "c = \"cualquier texto entre comillas simples o dobles es string\"\n",
        "d = 'cualquier texto entre comillas simples o dobles es string'\n",
        "\n",
        "print(c == d) # Como se mencionó, aunque el segundo usa comillas simples, es equivalente en Python."
      ]
    },
    {
      "cell_type": "code",
      "execution_count": null,
      "metadata": {
        "id": "EAfeqEEHl6U1",
        "colab": {
          "base_uri": "https://localhost:8080/"
        },
        "outputId": "60719e18-e705-4904-8be2-f75962022a93"
      },
      "outputs": [
        {
          "output_type": "stream",
          "name": "stdout",
          "text": [
            "True\n"
          ]
        }
      ],
      "source": [
        "print(isinstance(c, str)) # Muchas funciones pueden devolver valores booleanos como esta, que verifica si la variable c es string (usá la forma corta str)"
      ]
    },
    {
      "cell_type": "code",
      "execution_count": null,
      "metadata": {
        "id": "7l2oNl0luZ3H",
        "colab": {
          "base_uri": "https://localhost:8080/"
        },
        "outputId": "67fe35df-4be4-4fd2-f193-cd17ba15240d"
      },
      "outputs": [
        {
          "output_type": "stream",
          "name": "stdout",
          "text": [
            "True True\n"
          ]
        }
      ],
      "source": [
        "print(True == 1, False == 0) # El valor booleano de Verdadero es igual a 1; el valor booleano de Falso es igual a 0.\n",
        "# Esto será útil para variables categóricas."
      ]
    },
    {
      "cell_type": "code",
      "execution_count": null,
      "metadata": {
        "id": "N80QBYDwPDJ5",
        "colab": {
          "base_uri": "https://localhost:8080/"
        },
        "outputId": "4e30dde2-34f0-47f2-f525-db46a02e4520"
      },
      "outputs": [
        {
          "output_type": "stream",
          "name": "stdout",
          "text": [
            "<class 'bool'> <class 'bool'>\n"
          ]
        }
      ],
      "source": [
        "# Python solo reconoce False y True como valores booleanos, FALSE y false (TRUE y true) se consideran posibles nombres de variables.\n",
        "print(type(False), type(True))"
      ]
    },
    {
      "cell_type": "code",
      "execution_count": null,
      "metadata": {
        "id": "17OEWkgyQlZ1"
      },
      "outputs": [],
      "source": [
        "# print(type(FALSE)) # solo False funciona como boolean, sino, Python piensa que es una variable"
      ]
    },
    {
      "cell_type": "markdown",
      "metadata": {
        "id": "Spq3Eb-9rdNm"
      },
      "source": [
        "Podemos combinar condiciones con:\n",
        "*    `and` (deben cumplirse todas)\n",
        "*    `or` (al menos una debe cumplirse)\n",
        "*    `not` (invierte el resultado)"
      ]
    },
    {
      "cell_type": "code",
      "execution_count": null,
      "metadata": {
        "id": "3ObcvKL0rcw9",
        "colab": {
          "base_uri": "https://localhost:8080/"
        },
        "outputId": "4efa5d85-18b3-41cb-d019-f1c563c4502b"
      },
      "outputs": [
        {
          "output_type": "execute_result",
          "data": {
            "text/plain": [
              "False"
            ]
          },
          "metadata": {},
          "execution_count": 243
        }
      ],
      "source": [
        "p = 1\n",
        "q = 2\n",
        "\n",
        "p > q and p < q # ya que ambos deben satisfacerse, pero cada uno es mutuamente excluyente en este caso, esto debe ser False"
      ]
    },
    {
      "cell_type": "code",
      "execution_count": null,
      "metadata": {
        "id": "zX7ev-SGr5Si",
        "colab": {
          "base_uri": "https://localhost:8080/"
        },
        "outputId": "51019499-9ac8-4bea-da3a-e6c3e88bf678"
      },
      "outputs": [
        {
          "output_type": "execute_result",
          "data": {
            "text/plain": [
              "True"
            ]
          },
          "metadata": {},
          "execution_count": 244
        }
      ],
      "source": [
        "p > q or p < q # como uno se cumple, es True"
      ]
    },
    {
      "cell_type": "code",
      "execution_count": null,
      "metadata": {
        "id": "gRQ4Ccdir8Fg",
        "colab": {
          "base_uri": "https://localhost:8080/"
        },
        "outputId": "1f60c9fd-6bcf-43e4-f827-5d5174632f68"
      },
      "outputs": [
        {
          "output_type": "execute_result",
          "data": {
            "text/plain": [
              "True"
            ]
          },
          "metadata": {},
          "execution_count": 245
        }
      ],
      "source": [
        "not (p == q) # la expersión entre paréntesis es False pero 'not' los da vuelta"
      ]
    },
    {
      "cell_type": "code",
      "execution_count": null,
      "metadata": {
        "id": "FEobpIzE52ai"
      },
      "outputs": [],
      "source": [
        "# Understanding check: Introducí una variable llamada edad y asígnale un valor a tu elección. Escribí una condición que compruebe si el cuadrado de la edad es menor que 625."
      ]
    },
    {
      "cell_type": "markdown",
      "metadata": {
        "id": "4MkujAJju98-"
      },
      "source": [
        "### Lists, Indexing & Slicing\n",
        "\n",
        "**Lists** : son un contenedor secuenciado de elementos. Los elementos pueden ser de prácticamente cualquier tipo (cadenas, otras listas, tuplas, enteros...). Las listas se crean colocando el contenido secuencialmente entre corchetes, separados por comas. Se puede inicializar una lista vacía para que se complete colocando un conjunto vacío de corchetes.\n",
        "\n",
        "Cada elemento de una lista tiene una posición única que se llama **index**. Los índices se pueden etiquetar, pero también se pueden referenciar mediante un número. En Python, la numeración siempre empieza en 0. Por lo tanto, para acceder al primer elemento de una lista, se debe llamar a `list_name[0]`. Esto se denomina indexación de base cero y difiere de lenguajes de programación como R, que utilizan la indexación de base uno."
      ]
    },
    {
      "cell_type": "code",
      "execution_count": null,
      "metadata": {
        "colab": {
          "base_uri": "https://localhost:8080/"
        },
        "id": "fsOM2q3lvgvc",
        "outputId": "a0993664-6721-47b9-cc6a-bd32d2930b9a"
      },
      "outputs": [
        {
          "output_type": "execute_result",
          "data": {
            "text/plain": [
              "list"
            ]
          },
          "metadata": {},
          "execution_count": 247
        }
      ],
      "source": [
        "just_some_empty_list = [] # La inicialización de listas vacías será útil más adelante.Vale la pena recordar este sencillo truco para los ciclos posteriores.\n",
        "\n",
        "type(just_some_empty_list)"
      ]
    },
    {
      "cell_type": "code",
      "execution_count": null,
      "metadata": {
        "colab": {
          "base_uri": "https://localhost:8080/",
          "height": 35
        },
        "id": "aW4KDIK9vveT",
        "outputId": "415aedbc-5c6d-4545-979b-a52563cb77cf"
      },
      "outputs": [
        {
          "output_type": "execute_result",
          "data": {
            "text/plain": [
              "'cucumber'"
            ],
            "application/vnd.google.colaboratory.intrinsic+json": {
              "type": "string"
            }
          },
          "metadata": {},
          "execution_count": 248
        }
      ],
      "source": [
        "whats_in_my_fridge = ['cucumber', 'pasta sauce', 'leftovers', 'margarine', 'tomato'] # Crea una lista simplemente poniendo los elementos entre corchetes separados por comas, incluso podrías crear una lista de listas!\n",
        "\n",
        "whats_in_my_fridge[0] # llama al primer elemento de la lista o al elemento en el índice 0"
      ]
    },
    {
      "cell_type": "code",
      "execution_count": null,
      "metadata": {
        "colab": {
          "base_uri": "https://localhost:8080/",
          "height": 35
        },
        "id": "wIKl2JTWl0OF",
        "outputId": "790ec8b5-09b5-4b4d-8bab-dd494bd90609"
      },
      "outputs": [
        {
          "output_type": "execute_result",
          "data": {
            "text/plain": [
              "'tomato'"
            ],
            "application/vnd.google.colaboratory.intrinsic+json": {
              "type": "string"
            }
          },
          "metadata": {},
          "execution_count": 249
        }
      ],
      "source": [
        "whats_in_my_fridge[-1] # Los elementos se pueden llamar usando números negativos, el último elemento de la lista es el índice -1, el segundo último es -2 y así sucesivamente."
      ]
    },
    {
      "cell_type": "code",
      "execution_count": null,
      "metadata": {
        "colab": {
          "base_uri": "https://localhost:8080/"
        },
        "id": "gHo02o5dxFgN",
        "outputId": "82d54dfd-4c85-4399-c01f-4c52ded490e2"
      },
      "outputs": [
        {
          "output_type": "stream",
          "name": "stdout",
          "text": [
            "['cucumber', 'salad', 'leftovers', 'margarine', 'tomato']\n"
          ]
        }
      ],
      "source": [
        "whats_in_my_fridge[1] = 'salad' # Podés reemplazar elementos usando indexación, acá se reemplaza el elemento 2 (indexado en 1)\n",
        "\n",
        "print(whats_in_my_fridge)"
      ]
    },
    {
      "cell_type": "code",
      "execution_count": null,
      "metadata": {
        "colab": {
          "base_uri": "https://localhost:8080/"
        },
        "id": "xOhY836jyVaA",
        "outputId": "2f18306f-8c41-4a1e-ee86-6932ab9c0ce5"
      },
      "outputs": [
        {
          "output_type": "stream",
          "name": "stdout",
          "text": [
            "['cucumber', 'salad', 'margarine', 'tomato']\n"
          ]
        }
      ],
      "source": [
        "del whats_in_my_fridge[2] #Si me comí mis sobras, podemos eliminarlas de la lista así\n",
        "\n",
        "print(whats_in_my_fridge)"
      ]
    },
    {
      "cell_type": "code",
      "execution_count": null,
      "metadata": {
        "id": "D8eGUQJ652aj"
      },
      "outputs": [],
      "source": [
        "# Understanding check: Creá una lista para almacenar los datos de un cliente. Primero, inventá los datos de una persona hipotética, incluyendo nombre, edad, código postal y correo electrónico.\n",
        "# Reuní todos estos datos en una sola lista.\n"
      ]
    },
    {
      "cell_type": "code",
      "execution_count": null,
      "metadata": {
        "id": "krU3uksl52ak",
        "outputId": "172773f3-aa0e-4064-cdff-21dd2b84e799",
        "colab": {
          "base_uri": "https://localhost:8080/"
        }
      },
      "outputs": [
        {
          "output_type": "stream",
          "name": "stdout",
          "text": [
            "Hola zack30@mail. Un gusto. Veo que tenés 10310 años\n"
          ]
        }
      ],
      "source": [
        "print(f'Hola {my_cust[0]}. Un gusto. Veo que tenés {my_cust[1]} años')"
      ]
    },
    {
      "cell_type": "markdown",
      "metadata": {
        "id": "PMjdqfJszoCr"
      },
      "source": [
        "**Slicing** es la forma habitual de seleccionar datos en Python. Usá el índice más `:`. El `:` puede leerse como _hasta pero sin incluir_.\n",
        "\n",
        "Por ejemplo, `2:10` significa _elemento indexado en 2 hasta pero sin incluir el elemento indexado en 10_. Si no incluye un punto de inicio ni un punto final para la segmentación, Python comenzará al principio del índice o irá hasta el final."
      ]
    },
    {
      "cell_type": "code",
      "execution_count": null,
      "metadata": {
        "colab": {
          "base_uri": "https://localhost:8080/"
        },
        "id": "fJcmxWAJxYvJ",
        "outputId": "a58dd562-9f99-42bb-ce9c-1937d16039a6"
      },
      "outputs": [
        {
          "output_type": "execute_result",
          "data": {
            "text/plain": [
              "['cucumber', 'salad']"
            ]
          },
          "metadata": {},
          "execution_count": 254
        }
      ],
      "source": [
        "whats_in_my_fridge[0:2] # Selecciona el primer elemento (con índice 0) hasta el tercer elemento, pero sin incluirlo"
      ]
    },
    {
      "cell_type": "code",
      "execution_count": null,
      "metadata": {
        "colab": {
          "base_uri": "https://localhost:8080/"
        },
        "id": "BT8s8UQMx13q",
        "outputId": "5b874b74-eef2-4567-a293-75e2533e0371"
      },
      "outputs": [
        {
          "output_type": "execute_result",
          "data": {
            "text/plain": [
              "['margarine', 'tomato']"
            ]
          },
          "metadata": {},
          "execution_count": 255
        }
      ],
      "source": [
        "whats_in_my_fridge[2:] # Selecciona el elemento 3 hasta el final de la lista. Si hubiéramos escrito [:2], Python habría obtenido desde el principio hasta el elemento 3, sin incluirlo."
      ]
    },
    {
      "cell_type": "code",
      "execution_count": null,
      "metadata": {
        "colab": {
          "base_uri": "https://localhost:8080/"
        },
        "id": "BixxvmYwm0bc",
        "outputId": "18dc932f-0514-4edf-ca0a-ba72484a15a0"
      },
      "outputs": [
        {
          "output_type": "execute_result",
          "data": {
            "text/plain": [
              "['cucumber', 'salad', 'margarine', 'tomato', 'apples']"
            ]
          },
          "metadata": {},
          "execution_count": 256
        }
      ],
      "source": [
        "what_i_want_in_fridge = ['apples']\n",
        "\n",
        "tomorrow_in_my_fridge = whats_in_my_fridge + what_i_want_in_fridge\n",
        "\n",
        "tomorrow_in_my_fridge # Podés sumar dos listas para combinarlas"
      ]
    },
    {
      "cell_type": "code",
      "execution_count": null,
      "metadata": {
        "id": "tevh7JgI52al",
        "outputId": "83a5c8b6-930c-4a7d-8e55-ecc2b655dbcd",
        "colab": {
          "base_uri": "https://localhost:8080/"
        }
      },
      "outputs": [
        {
          "output_type": "stream",
          "name": "stdout",
          "text": [
            "['tomato', 'margarine', 'salad', 'cucumber']\n"
          ]
        }
      ],
      "source": [
        "sorted_list= whats_in_my_fridge.copy()\n",
        "sorted_list.reverse()\n",
        "print(sorted_list)"
      ]
    },
    {
      "cell_type": "code",
      "execution_count": null,
      "metadata": {
        "id": "PR67MKk-52al"
      },
      "outputs": [],
      "source": [
        "# Understanding check:\n",
        "# Arriba vimos el método .append(). Las listas tienen muchos más métodos. Buscá y aplicá un método para imprimir\n",
        "# todos los elementos de la lista whats_in_my_fridge en orden descendente.\n",
        "\n"
      ]
    },
    {
      "cell_type": "code",
      "execution_count": null,
      "metadata": {
        "colab": {
          "base_uri": "https://localhost:8080/"
        },
        "id": "UhJK3dTzy0rz",
        "outputId": "2795d2c6-e784-404c-d308-5c081013cf18"
      },
      "outputs": [
        {
          "output_type": "stream",
          "name": "stdout",
          "text": [
            "['cucumber', 'salad', 'margarine', 'tomato', 'spring rolls']\n"
          ]
        }
      ],
      "source": [
        "whats_in_my_fridge.append('spring rolls') # Cada data type tiene métodos y atributos asociados. Por ejemplo, las listas tienen el método .append(), que añade un nuevo elemento especificado.\n",
        "\n",
        "# Es muy útil aprender más sobre los posibles métodos y atributos de los tipos de datos, ya que simplificarán considerablemente la programación\n",
        "print(whats_in_my_fridge)"
      ]
    },
    {
      "cell_type": "code",
      "execution_count": null,
      "metadata": {
        "colab": {
          "base_uri": "https://localhost:8080/"
        },
        "id": "9q0YajPdzFrb",
        "outputId": "e5fbcbfa-b0f0-4c6d-a109-21a523455091"
      },
      "outputs": [
        {
          "output_type": "stream",
          "name": "stdout",
          "text": [
            "['cucumber', 'hummus', 'margarine', 'tomato', 'spring rolls'] ['cucumber', 'hummus', 'margarine', 'tomato', 'spring rolls']\n"
          ]
        }
      ],
      "source": [
        "whats_in_your_fridge = whats_in_my_fridge # creemos una nueva lista basada en nuestra lista anterior\n",
        "\n",
        "whats_in_your_fridge[1] = 'hummus' # cambiemosle unos de los elementos\n",
        "\n",
        "print(whats_in_your_fridge, whats_in_my_fridge) # esperen, cambiamos SU heladera, por qué cambi+o mi heladera también?"
      ]
    },
    {
      "cell_type": "code",
      "execution_count": null,
      "metadata": {
        "colab": {
          "base_uri": "https://localhost:8080/"
        },
        "id": "fi8pNHhrziHl",
        "outputId": "5a80fcc5-4df6-4021-e794-30cb6b1e696c"
      },
      "outputs": [
        {
          "output_type": "stream",
          "name": "stdout",
          "text": [
            "['cucumber', 'hummus', 'guacamole', 'tomato', 'spring rolls'] ['cucumber', 'hummus', 'margarine', 'tomato', 'spring rolls']\n"
          ]
        }
      ],
      "source": [
        "# Los nombres de las variables se refieren a la lista original. Para crear una copia que desea editar completamente por separado, utilizá el método de lista .copy()\n",
        "whats_in_your_fridge = whats_in_my_fridge.copy()\n",
        "\n",
        "whats_in_your_fridge[2] = 'guacamole'\n",
        "\n",
        "print(whats_in_your_fridge, whats_in_my_fridge)"
      ]
    },
    {
      "cell_type": "markdown",
      "metadata": {
        "id": "klol8pB-8A2A"
      },
      "source": [
        "#### List Comprehensions\n",
        "Si deseas aplicar la misma función a todos los elementos de una lista, podés usar una comprensión de lista. Esta es una versión simple de lo que se llama un ciclo, que aprenderemos más adelante. Tiene el siguiente formato:\n",
        "\n",
        "> [_action_ `for` _dummy_item_name_ `in` _list_ ]\n",
        "\n",
        "Python interpreta esto de la siguiente manera:\n",
        "\n",
        "1. Tome el primer elemento de la lista y etiquételo temporalmente como `dummy_item_name`\n",
        "2. Ejecute _action_ en el elemento etiquetado como `dummy_item_name`\n",
        "3. Coloque el resultado en una nueva lista\n",
        "4. Repita los pasos 1 a 3 para el siguiente elemento de la lista hasta que esté completa.\n",
        "\n",
        "De esta manera, creamos rápidamente una nueva lista basada en nuestra lista anterior.\n"
      ]
    },
    {
      "cell_type": "code",
      "execution_count": null,
      "metadata": {
        "colab": {
          "base_uri": "https://localhost:8080/"
        },
        "id": "KWpxjoO471wr",
        "outputId": "5f0cbb83-6347-4f5e-ffe1-90bec3eef5b4"
      },
      "outputs": [
        {
          "output_type": "execute_result",
          "data": {
            "text/plain": [
              "[8, 6, 9, 6, 12]"
            ]
          },
          "metadata": {},
          "execution_count": 262
        }
      ],
      "source": [
        "[len(dummy) for dummy in whats_in_my_fridge] # Acá obtenemos la longitud de cada string en la lista"
      ]
    },
    {
      "cell_type": "code",
      "execution_count": null,
      "metadata": {
        "colab": {
          "base_uri": "https://localhost:8080/"
        },
        "id": "hsAvgMsDIHPe",
        "outputId": "3ef868fb-13f9-4ac4-96e6-4df1fcfd14fd"
      },
      "outputs": [
        {
          "output_type": "execute_result",
          "data": {
            "text/plain": [
              "['c', 'h', 'm', 't', 's']"
            ]
          },
          "metadata": {},
          "execution_count": 263
        }
      ],
      "source": [
        "new_list = [item[0] for item in whats_in_my_fridge] # Acá hay otro ejemplo donde obtenemos la primera letra de cada elemento, para guardarlo necesitamos asignarle un nuevo nombre\n",
        "new_list"
      ]
    },
    {
      "cell_type": "code",
      "execution_count": null,
      "metadata": {
        "id": "CZUkWGDc52am"
      },
      "outputs": [],
      "source": [
        "# Understanding check:\n",
        "# Creá una lista con 5 números arbitrarios. Luego, usá la comprensión de listas para crear una nueva.\n",
        "# creá 'list_of_squares',que guarde los cuadrados de los números de tu lista original\n",
        "\n"
      ]
    },
    {
      "cell_type": "markdown",
      "metadata": {
        "id": "frIlePOZIWC8"
      },
      "source": [
        "Podés encontrar otros trucos con listas acá: https://docs.python.org/3/library/stdtypes.html#sequence-types-list-tuple-range ."
      ]
    },
    {
      "cell_type": "markdown",
      "metadata": {
        "id": "0A8CY5_552am"
      },
      "source": [
        "#### Operaciones con lists\n",
        "\n",
        "**Lists** tienen muchos métodos útiles. Podés ver los más útiles acá: https://docs.python.org/3/tutorial/datastructures.html.\n",
        "\n",
        "Ejemplos:"
      ]
    },
    {
      "cell_type": "code",
      "execution_count": null,
      "metadata": {
        "id": "MWQBxeLs52am",
        "outputId": "6e225411-0d64-44a4-8463-e2851aab98ff",
        "colab": {
          "base_uri": "https://localhost:8080/"
        }
      },
      "outputs": [
        {
          "output_type": "execute_result",
          "data": {
            "text/plain": [
              "['roar', 'truck', 'muffle', 'fuzzy']"
            ]
          },
          "metadata": {},
          "execution_count": 265
        }
      ],
      "source": [
        "words_i_like = ['fuzzy', 'muffle', 'truck']  # nada nuevo\n",
        "\n",
        "words_i_like.append('roar')  # ok, entonces usando la función append(), en realidad llamamos a un método de la clase lista, tal como si llamáramos al método saludo() en nuestra clase en persona\n",
        "\n",
        "\n",
        "words_i_like.reverse()  # Otra llamada a un método. Sin embargo, esta vez, el método no requiere que especifiquemos un argumento.\n",
        "#Todo el funcionamiento del método se basa en datos almacenados junto con el objeto. En este caso, estos datos son solo las entradas de la lista.\n",
        "\n",
        "words_i_like  # noten como cambia el orden de los elementos"
      ]
    },
    {
      "cell_type": "code",
      "execution_count": null,
      "metadata": {
        "id": "XpNHZ-x552am"
      },
      "outputs": [],
      "source": [
        "# Understanding check: Sacá el último elemento de la lista utilizando el método apropiado\n",
        "\n",
        "\n"
      ]
    },
    {
      "cell_type": "code",
      "execution_count": null,
      "metadata": {
        "id": "fy5frtRa52am"
      },
      "outputs": [],
      "source": [
        "# Understanding check: manipulá la siguiente lista\n",
        "\n",
        "numbers = [100000, 10, 1, .01, 100, 2]\n",
        "\n",
        "# sacá el segundo número de esta lista\n",
        "\n",
        "\n",
        "# cambiá el primer número a 33\n",
        "\n",
        "\n",
        "# agregá 45 al final de la lista\n",
        "\n",
        "\n",
        "# multiplicá cada elemento de la lista por 2 usando list comprehension\n"
      ]
    },
    {
      "cell_type": "markdown",
      "metadata": {
        "id": "cjdoQKQ5WF8_"
      },
      "source": [
        "### Tuples\n",
        "\n",
        "Las tuplas son objetos que se almacenan juntos. Estos objetos no se pueden modificar, lo que diferencia a las tuplas de las listas. En lugar de almacenarse entre corchetes, las tuplas se almacenan entre paréntesis. Si tenés un elemento, simplemente añadile `,` y se convertirá en una tupla de un solo elemento.\n",
        "\n",
        "A diferencia de las listas, las tuplas no se pueden modificar. Podés convertirlas en listas o dividirlas en varios elementos y modificarlas de esa manera."
      ]
    },
    {
      "cell_type": "code",
      "execution_count": null,
      "metadata": {
        "id": "q8plxJmoWhN9",
        "colab": {
          "base_uri": "https://localhost:8080/"
        },
        "outputId": "175f2b91-39ed-4913-bfa9-b42f7c40cea6"
      },
      "outputs": [
        {
          "output_type": "execute_result",
          "data": {
            "text/plain": [
              "tuple"
            ]
          },
          "metadata": {},
          "execution_count": 268
        }
      ],
      "source": [
        "cool_tuple = ('ponies', 'unicorns', 'sharks with laser beams on their heads')\n",
        "\n",
        "type(cool_tuple)"
      ]
    },
    {
      "cell_type": "code",
      "execution_count": null,
      "metadata": {
        "id": "IUjCrThFW2vg",
        "colab": {
          "base_uri": "https://localhost:8080/",
          "height": 35
        },
        "outputId": "2eb359ef-b1b4-49ec-f586-cd81bd7b3c7f"
      },
      "outputs": [
        {
          "output_type": "execute_result",
          "data": {
            "text/plain": [
              "'sharks with laser beams on their heads'"
            ],
            "application/vnd.google.colaboratory.intrinsic+json": {
              "type": "string"
            }
          },
          "metadata": {},
          "execution_count": 269
        }
      ],
      "source": [
        "cool_tuple[2] # indexing funciona igual que en lists"
      ]
    },
    {
      "cell_type": "code",
      "execution_count": null,
      "metadata": {
        "id": "dgk0bsigCo1h"
      },
      "outputs": [],
      "source": [
        "# cool_tuple[2] = 'lame animal like a squirrel' # no va a funcionar porque no se pueden cambiar los tuples"
      ]
    },
    {
      "cell_type": "code",
      "execution_count": null,
      "metadata": {
        "id": "rJ69tJnwXOde",
        "colab": {
          "base_uri": "https://localhost:8080/"
        },
        "outputId": "85e32097-4868-4383-98d8-fa5d7b58b055"
      },
      "outputs": [
        {
          "output_type": "stream",
          "name": "stdout",
          "text": [
            "I want ponies ,  unicorns and especially sharks with laser beams on their heads\n"
          ]
        }
      ],
      "source": [
        "item_1, item_2, item_3 = cool_tuple # podés romper un tuple en distintos elementos asignandole a cada uno una variable\n",
        "print('I want', item_1, ', ', item_2, 'and especially', item_3)"
      ]
    },
    {
      "cell_type": "code",
      "execution_count": null,
      "metadata": {
        "id": "0SZJn5C_rCiB"
      },
      "outputs": [],
      "source": [
        "# del cool_tuple[2] # de nuevo, tuples no pueden ser alteradas"
      ]
    },
    {
      "cell_type": "code",
      "execution_count": null,
      "metadata": {
        "id": "qsBCzKFyXAZ3",
        "colab": {
          "base_uri": "https://localhost:8080/"
        },
        "outputId": "a0fc9dbe-50b1-486e-df3e-2ad725285ee4"
      },
      "outputs": [
        {
          "output_type": "execute_result",
          "data": {
            "text/plain": [
              "['ponies', 'unicorns', 'sharks with laser beams on their heads']"
            ]
          },
          "metadata": {},
          "execution_count": 273
        }
      ],
      "source": [
        "cool_list = list(cool_tuple) # tuples NO se pueden cambiar, pero podés convertirlas en list y de ahí alterarlas\n",
        "\n",
        "cool_list # noten los corchetes"
      ]
    },
    {
      "cell_type": "code",
      "execution_count": null,
      "metadata": {
        "id": "KV6gF7ghmTDK",
        "colab": {
          "base_uri": "https://localhost:8080/"
        },
        "outputId": "6d0a22d3-2efa-4c0b-aae8-fc38b3fe9197"
      },
      "outputs": [
        {
          "output_type": "execute_result",
          "data": {
            "text/plain": [
              "('ponies', 'unicorns', 'sharks with laser beams on their heads', True)"
            ]
          },
          "metadata": {},
          "execution_count": 274
        }
      ],
      "source": [
        "another_cool_tuple = True, # si queres un tuple de un elemento,ni siquiera requerís paréntesis, solo poné una coma\n",
        "cool_tuple + another_cool_tuple # sumar tuples hace que se combinen, podés asignar esto a una nueva variables si querés"
      ]
    },
    {
      "cell_type": "code",
      "execution_count": null,
      "metadata": {
        "id": "Y2DFW9uN52ao"
      },
      "outputs": [],
      "source": [
        "# Understanding check:  descomprimí la siguiente tupla en drink_1, drink_2 y drink_3\n",
        "\n",
        "drinks = ('mate', 'coffee', 'Redbull')\n",
        "\n"
      ]
    },
    {
      "cell_type": "markdown",
      "metadata": {
        "id": "Gg0LfXLdRVLn"
      },
      "source": [
        "### Otros Data Types\n",
        "\n",
        "Como se mencionó, existen muchos otros tipos de datos. Algunos solo están disponibles tras cargar una biblioteca específica en Python. A medida que cargás nuevas bibliotecas, consultá su documentación para obtener más información sobre cómo usar eficazmente sus elementos, incluyendo tipos de datos personalizados."
      ]
    },
    {
      "cell_type": "markdown",
      "metadata": {
        "id": "a1S_CTmlMFav"
      },
      "source": [
        "## Control flow\n",
        "\n",
        "Para manejar el control flow de un programa, necesitamos dos estructuras de programación estándar: condiciones y ciclos. Las primeras evalúan una condición y proceden de una manera determinada según el valor devuelto. Los segundos realizan una acción recursivamente hasta que se cumple una condición o la acción se ha ejecutado en todos los elementos aplicables."
      ]
    },
    {
      "cell_type": "markdown",
      "metadata": {
        "id": "wInQsLyXQbJd"
      },
      "source": [
        "### Enunciados condicionales con If\n",
        "Los enunciados condicionales toman la siguiente forma:\n",
        "\n",
        "\n",
        "```\n",
        "if condition == True:\n",
        " action\n",
        "else:\n",
        " action\n",
        " ```\n",
        "\n",
        "Si hay varias condiciones, podés ampliar esto con elif (tantas veces como sea necesario):\n",
        "```\n",
        "if condition_1 == True:\n",
        " action\n",
        "elif condition_2 == True:\n",
        "  action\n",
        "elif condition_3 == True:\n",
        "  action\n",
        "...\n",
        "else:\n",
        " action\n",
        " ```\n"
      ]
    },
    {
      "cell_type": "code",
      "execution_count": null,
      "metadata": {
        "id": "wNLNv0oyMfAx",
        "colab": {
          "base_uri": "https://localhost:8080/"
        },
        "outputId": "ea712d8d-24ae-4846-ef9b-163e7928e03b"
      },
      "outputs": [
        {
          "output_type": "stream",
          "name": "stdout",
          "text": [
            "no logic :(\n"
          ]
        }
      ],
      "source": [
        "if 1 > 2 :\n",
        "  print('logic!')\n",
        "else:\n",
        "  print('no logic :(')"
      ]
    },
    {
      "cell_type": "code",
      "execution_count": null,
      "metadata": {
        "id": "5H3x0IhhMyNW",
        "colab": {
          "base_uri": "https://localhost:8080/"
        },
        "outputId": "b90be278-db64-4259-a303-e7fc19bf42ff"
      },
      "outputs": [
        {
          "output_type": "stream",
          "name": "stdout",
          "text": [
            "logic!\n"
          ]
        }
      ],
      "source": [
        "if 2 > 1 :\n",
        "  print('logic!')\n",
        "else:\n",
        "  print('no logic :(')"
      ]
    },
    {
      "cell_type": "code",
      "execution_count": null,
      "metadata": {
        "id": "-aEudjONM_qb",
        "colab": {
          "base_uri": "https://localhost:8080/"
        },
        "outputId": "b675f920-6b78-449a-add6-773cf1d9a7d7"
      },
      "outputs": [
        {
          "output_type": "execute_result",
          "data": {
            "text/plain": [
              "['area 51', 'bermuda triangle', 'el dorado', 'atlantis']"
            ]
          },
          "metadata": {},
          "execution_count": 278
        }
      ],
      "source": [
        "places_to_visit = ['area 51', 'bermuda triangle', 'el dorado']\n",
        "\n",
        "if 'atlantis' not in places_to_visit: # para lists, podemos usar 'in' y 'not in' y eso devuelve un Booleano\n",
        "  places_to_visit.append('atlantis')\n",
        "else:\n",
        "  places_to_visit\n",
        "\n",
        "places_to_visit\n"
      ]
    },
    {
      "cell_type": "code",
      "execution_count": null,
      "metadata": {
        "id": "wk6I0faWN73g",
        "colab": {
          "base_uri": "https://localhost:8080/"
        },
        "outputId": "3abfe3de-eeeb-4448-be0a-4778b3bb0e91"
      },
      "outputs": [
        {
          "output_type": "stream",
          "name": "stdout",
          "text": [
            "Oops, looks like I put 100 in my bag. I'll just take one.\n"
          ]
        },
        {
          "output_type": "execute_result",
          "data": {
            "text/plain": [
              "1"
            ]
          },
          "metadata": {},
          "execution_count": 279
        }
      ],
      "source": [
        "toothbrushes_packed = 100 # ajusten esto a 0, 1 y más de 1 para ir viendo los resultados\n",
        "\n",
        "if toothbrushes_packed == 0:\n",
        "  toothbrushes_packed += 1 # este formato agrega 1 a la variable de la izquierda, es otro buen truco para los ciclos\n",
        "  print('Thanks for reminding me, I just packed', toothbrushes_packed, '!')\n",
        "elif toothbrushes_packed == 1:\n",
        "  print('All set! I already packed', toothbrushes_packed, '!')\n",
        "else:\n",
        "  print('Oops, looks like I put', toothbrushes_packed, 'in my bag. I\\'ll just take one.') # Necesitamos poner \\ delante de ' para que Python trate ' como un caracter y no como el final del string\n",
        "  toothbrushes_packed=1 # resetea la variable a 1\n",
        "\n",
        "toothbrushes_packed"
      ]
    },
    {
      "cell_type": "markdown",
      "metadata": {
        "id": "eFd4S6b5QowM"
      },
      "source": [
        "### Loops\n",
        "\n",
        "\n",
        "Los ciclos iteran sobre una secuencia de elementos (como una lista) y realizan una acción sobre cada elemento.\n",
        "\n",
        "Los ciclos for son el tipo más común. Tienen la siguiente forma:\n",
        "\n",
        "```\n",
        "for dummy_item_name in sequence:\n",
        "... dummy_item_name ...\n",
        "```\n",
        "\n",
        "Para procesar esto, Python tomará cada elemento de la secuencia uno por uno y lo asignará temporalmente a la variable `dummy_item_name`. La acción en la siguiente línea tomará ese elemento usando dummy_item_name y lo ejecutará en consecuencia.\n",
        "\n",
        "1. Tomá el primer elemento de la secuencia y etiquetalo temporalmente como `dummy_item_name`.\n",
        "2. Ejecutá la acción en el elemento etiquetado como `dummy_item_name`.\n",
        "3. Repetí los pasos 1 y 2 para el siguiente elemento hasta completar la secuencia.\n",
        "\n",
        "Ya hemos visto este tipo de estructura en las comprensiones de listas, que funcionan como un ciclo for condensado para crear nuevas listas a partir de los elementos de otra lista."
      ]
    },
    {
      "cell_type": "code",
      "execution_count": null,
      "metadata": {
        "id": "hC0VIT1PRHD7",
        "colab": {
          "base_uri": "https://localhost:8080/"
        },
        "outputId": "5272e293-f792-4f2d-b336-53f5645cf8c0"
      },
      "outputs": [
        {
          "output_type": "execute_result",
          "data": {
            "text/plain": [
              "[7, 16, 9, 8]"
            ]
          },
          "metadata": {},
          "execution_count": 280
        }
      ],
      "source": [
        "place_name_length=[] # Inicializar una lista vacía antes del loop nos permite simplemente agregarle elementos dentro del loop\n",
        "\n",
        "for place in places_to_visit: # para cada elemento en places_to_visit, asigna temporariamente la etiqueta 'place'\n",
        "  place_name_length.append(len(place)) # aplica esta acción para cada elemento 'place' uno por uno\n",
        "\n",
        "place_name_length"
      ]
    },
    {
      "cell_type": "code",
      "execution_count": null,
      "metadata": {
        "id": "Pkg5hq8EwFeF",
        "colab": {
          "base_uri": "https://localhost:8080/"
        },
        "outputId": "c42dedd5-4731-4c75-a53e-445b5a0fbd48"
      },
      "outputs": [
        {
          "output_type": "stream",
          "name": "stdout",
          "text": [
            "My number 1 place to visit is area 51\n",
            "My number 2 place to visit is bermuda triangle\n",
            "My number 3 place to visit is el dorado\n",
            "My number 4 place to visit is atlantis\n"
          ]
        }
      ],
      "source": [
        "for index, place in enumerate(places_to_visit): # enumerate() Da un número de índice para cada elemento de la lista\n",
        "  print('My number', index+1, 'place to visit is', place) # como la indexación arranca en 0, Es más natural que al contar agreguemos 1."
      ]
    },
    {
      "cell_type": "code",
      "execution_count": null,
      "metadata": {
        "id": "ya5Bl0cFRpAG",
        "colab": {
          "base_uri": "https://localhost:8080/"
        },
        "outputId": "b2101b3f-80bb-4ce2-fe1e-4b70951e8891"
      },
      "outputs": [
        {
          "output_type": "stream",
          "name": "stdout",
          "text": [
            "4\n",
            "16\n",
            "36\n",
            "64\n",
            "100\n"
          ]
        }
      ],
      "source": [
        "num_list = [10, 2, 6, 4, 8]\n",
        "\n",
        "for num in sorted(num_list):\n",
        "  print(num**2)"
      ]
    },
    {
      "cell_type": "code",
      "execution_count": null,
      "metadata": {
        "id": "uAHc_1qRMkXv"
      },
      "outputs": [],
      "source": [
        "# Understanding check:\n",
        "\n",
        "# Creá dos variables: manzanas con el valor 10 y naranjas con el valor 2.\n",
        "#Creá una sentencia if que devuelva \"¡Genial, más manzanas!\" si manzanas es más grande que naranjas; de lo contrario, \"¡Caramba, más naranjas!\".\n",
        "\n"
      ]
    },
    {
      "cell_type": "code",
      "execution_count": null,
      "metadata": {
        "id": "PsaDMlR2NYxx"
      },
      "outputs": [],
      "source": [
        "# Understanding check:\n",
        "\n",
        "# Usá un if-statement para chequear que el Boolean value de True es 1, si es, imprmí 'Entonces... True es lo mismo que 1 en Python', sino imprimí 'Qué?'\n"
      ]
    },
    {
      "cell_type": "code",
      "execution_count": null,
      "metadata": {
        "id": "wkuYgxUKN-11"
      },
      "outputs": [],
      "source": [
        "#Understanding check:\n",
        "\n",
        "# Creá un for-loop que devuelva una lista de cuadrados para la lista some_nums = [20, 2, 22, 0.2]"
      ]
    },
    {
      "cell_type": "markdown",
      "metadata": {
        "id": "Xwy39al3PV2e"
      },
      "source": [
        "## Dictionaries\n",
        "\n",
        "Los diccionarios son otro tipo de datos. Aunque parezcan listas, su función principal es almacenar elementos como pares clave-valor. Existe una etiqueta (clave) que corresponde a un valor o conjunto de valores.\n",
        "\n",
        "Este sistema facilita la búsqueda de valores según claves específicas. Si imagina las claves como nombres de columna (o fila), los valores podrían ser valores de columna (fila). Como puede imaginar, esto significa que muchos diccionarios son muy fáciles de convertir en estructuras de datos comunes que utilizaremos más adelante.\n",
        "\n",
        "Los diccionarios tienen la siguiente forma:\n",
        "\n",
        "```\n",
        "dict_1 = {clave_1 : valor_1, clave_2 : valor_2} # para un valor por clave\n",
        "dict_2 = {clave_1:[valor_1_1, valor_1_2,...], clave_2:[valor_2_1, valor_2_2,...], ...} # usar listas para múltiples valores por clave\n",
        "```\n",
        "También es posible que el valor de una clave sea otro diccionario.\n",
        "\n"
      ]
    },
    {
      "cell_type": "code",
      "execution_count": null,
      "metadata": {
        "id": "G966HNkSQVo3"
      },
      "outputs": [],
      "source": [
        "new_dict = {} # como crear un diccionario para un loop"
      ]
    },
    {
      "cell_type": "code",
      "execution_count": null,
      "metadata": {
        "id": "KOZ7kb2FSSei",
        "colab": {
          "base_uri": "https://localhost:8080/"
        },
        "outputId": "38fb625f-77d9-4e55-e0a6-de9806bc9ddb"
      },
      "outputs": [
        {
          "output_type": "execute_result",
          "data": {
            "text/plain": [
              "dict_keys(['Lesotho', 'Laos', 'Luxembourg'])"
            ]
          },
          "metadata": {},
          "execution_count": 287
        }
      ],
      "source": [
        "l_countries_capitals = {'Lesotho' : 'Matheru', 'Laos' : 'Vientiane', 'Luxembourg' : 'Luxembourg'}\n",
        "\n",
        "l_countries_capitals.keys() # chequear las claves del diccionario"
      ]
    },
    {
      "cell_type": "code",
      "execution_count": null,
      "metadata": {
        "id": "Qk2fl-z5StZJ",
        "colab": {
          "base_uri": "https://localhost:8080/"
        },
        "outputId": "879a9620-6876-4e9e-97b6-69022d30c080"
      },
      "outputs": [
        {
          "output_type": "execute_result",
          "data": {
            "text/plain": [
              "dict_values(['Matheru', 'Vientiane', 'Luxembourg'])"
            ]
          },
          "metadata": {},
          "execution_count": 288
        }
      ],
      "source": [
        "l_countries_capitals.values() # chequear los valores del diccionario"
      ]
    },
    {
      "cell_type": "code",
      "execution_count": null,
      "metadata": {
        "id": "6rq1xIh_SxQR",
        "colab": {
          "base_uri": "https://localhost:8080/",
          "height": 35
        },
        "outputId": "ca29d6a4-8ef1-4141-abf4-f3da56d10f91"
      },
      "outputs": [
        {
          "output_type": "execute_result",
          "data": {
            "text/plain": [
              "'Vientiane'"
            ],
            "application/vnd.google.colaboratory.intrinsic+json": {
              "type": "string"
            }
          },
          "metadata": {},
          "execution_count": 289
        }
      ],
      "source": [
        "l_countries_capitals['Laos'] # buscar un valor específico"
      ]
    },
    {
      "cell_type": "code",
      "execution_count": null,
      "metadata": {
        "id": "4oFgBkboTZE5",
        "colab": {
          "base_uri": "https://localhost:8080/"
        },
        "outputId": "2ac81a11-5a78-48c7-fdf1-ae8c0f28d40f"
      },
      "outputs": [
        {
          "output_type": "execute_result",
          "data": {
            "text/plain": [
              "{'Lesotho': 'Matheru',\n",
              " 'Laos': 'Vientiane',\n",
              " 'Luxembourg': 'Luxembourg',\n",
              " 'Lebanon': 'Sidon'}"
            ]
          },
          "metadata": {},
          "execution_count": 290
        }
      ],
      "source": [
        "l_countries_capitals['Lebanon'] = 'Sidon' # añadir un valor, despúes editarlo\n",
        "\n",
        "l_countries_capitals # note que a diferencia de las listas, el orden no es fijo, Lebanon no se añadió al final"
      ]
    },
    {
      "cell_type": "code",
      "execution_count": null,
      "metadata": {
        "id": "LBQNTccnTx9B",
        "colab": {
          "base_uri": "https://localhost:8080/"
        },
        "outputId": "0c6e7893-7eb8-4b88-c8c7-858a7a424713"
      },
      "outputs": [
        {
          "output_type": "execute_result",
          "data": {
            "text/plain": [
              "{'Lesotho': 'Matheru',\n",
              " 'Laos': 'Vientiane',\n",
              " 'Luxembourg': 'Luxembourg',\n",
              " 'Lebanon': 'Beirut'}"
            ]
          },
          "metadata": {},
          "execution_count": 291
        }
      ],
      "source": [
        "l_countries_capitals['Lebanon'] = 'Beirut'\n",
        "\n",
        "l_countries_capitals"
      ]
    },
    {
      "cell_type": "code",
      "execution_count": null,
      "metadata": {
        "id": "TMqZV-EYVxQl",
        "colab": {
          "base_uri": "https://localhost:8080/"
        },
        "outputId": "8d819826-35c4-448d-d1b2-438d81b95488"
      },
      "outputs": [
        {
          "output_type": "execute_result",
          "data": {
            "text/plain": [
              "True"
            ]
          },
          "metadata": {},
          "execution_count": 292
        }
      ],
      "source": [
        "'Luxembourg' in l_countries_capitals # chequear si una clave existe en ese diccionario con in"
      ]
    },
    {
      "cell_type": "code",
      "execution_count": null,
      "metadata": {
        "id": "oxZ55HEuUbQp",
        "colab": {
          "base_uri": "https://localhost:8080/"
        },
        "outputId": "b4a39eb0-26bc-4875-e8d5-5c589feb328d"
      },
      "outputs": [
        {
          "output_type": "stream",
          "name": "stdout",
          "text": [
            "Sabaidi!\n"
          ]
        }
      ],
      "source": [
        "if 'Laos' in l_countries_capitals: # esto es muy util para armar if-statements\n",
        "  print('Sabaidi!')"
      ]
    },
    {
      "cell_type": "code",
      "execution_count": null,
      "metadata": {
        "id": "ygETg5I1UuJf",
        "colab": {
          "base_uri": "https://localhost:8080/"
        },
        "outputId": "fd067033-e556-422f-ca5f-7cfc6c403726"
      },
      "outputs": [
        {
          "output_type": "stream",
          "name": "stdout",
          "text": [
            "Aww, we should add them!\n"
          ]
        }
      ],
      "source": [
        "if 'Latvia' in l_countries_capitals:\n",
        "  print('Sveiki!')\n",
        "else:\n",
        "  print('Aww, we should add them!')"
      ]
    },
    {
      "cell_type": "code",
      "execution_count": null,
      "metadata": {
        "id": "4D7Z8X0aU-ll",
        "colab": {
          "base_uri": "https://localhost:8080/"
        },
        "outputId": "ace67007-e829-470c-c655-c299e53f98c8"
      },
      "outputs": [
        {
          "output_type": "stream",
          "name": "stdout",
          "text": [
            "So, we have Matheru which is the capital of Lesotho .\n",
            "So, we have Vientiane which is the capital of Laos .\n",
            "So, we have Luxembourg which is the capital of Luxembourg .\n",
            "So, we have Beirut which is the capital of Lebanon .\n"
          ]
        }
      ],
      "source": [
        "for key, val in l_countries_capitals.items(): # iterar en diccionarios usando .items(), esto va a devolver un tuple de (key, value) que se puede romper\n",
        "  print('So, we have', val, 'which is the capital of', key, '.')"
      ]
    },
    {
      "cell_type": "code",
      "execution_count": null,
      "metadata": {
        "id": "SwjYwpfRCacS"
      },
      "outputs": [],
      "source": [
        "# understanding check: Crea un diccionario llamado aus_animals cuyas claves sean las cadenas mamífero, reptil y ave.\n",
        "# Asigna los valores cocodrilo, emú y canguro a la clave correcta.\n",
        "\n"
      ]
    },
    {
      "cell_type": "code",
      "execution_count": null,
      "metadata": {
        "id": "8HIs3XUHEE3R"
      },
      "outputs": [],
      "source": [
        "# cambiá el valor de mamífero a koala\n",
        "\n"
      ]
    },
    {
      "cell_type": "code",
      "execution_count": null,
      "metadata": {
        "id": "D2bAl6jhEVb5"
      },
      "outputs": [],
      "source": [
        "# usá .update() en aus_animals y usá el siguiente diccionario como argumento; describí el cambio:\n",
        "\n"
      ]
    },
    {
      "cell_type": "code",
      "execution_count": null,
      "metadata": {
        "id": "uD8i0iNzGYuA"
      },
      "outputs": [],
      "source": [
        "# usá un for loop para imprimir la siguiente oración para cada animal: Un clásico [animal type] australinao es un [example animal]\n",
        "\n"
      ]
    },
    {
      "cell_type": "markdown",
      "metadata": {
        "id": "iFNdnj8H-lXu"
      },
      "source": [
        "## Functions\n",
        "\n",
        "Hay una gran cantidad de funciones disponibles en Python que realizan tareas específicas. Ya vimos una función: `print()`. Si no existe una función para tu propósito, siempre podés crear la tuya de forma muy sencilla.\n",
        "\n",
        "Dentro de los paréntesis de las funciones se encuentran los **argumentos**. Estos proporcionan más detalles sobre las acciones que debe realizar la función. Los argumentos se separan por comas."
      ]
    },
    {
      "cell_type": "markdown",
      "metadata": {
        "id": "EBkfaJvI5FAj"
      },
      "source": [
        "### Pre-Built Functions\n",
        "Python incluye algunas funciones predefinidas para usos muy básicos. Normalmente, vas a tener que importar otras bibliotecas para realizar prácticamente cualquier tarea con el programa. Ejemplos de funciones predefinidas:"
      ]
    },
    {
      "cell_type": "code",
      "execution_count": null,
      "metadata": {
        "id": "hG6I5f_HJ2uC",
        "colab": {
          "base_uri": "https://localhost:8080/"
        },
        "outputId": "72e03535-be10-40c2-b6be-b200b411b937"
      },
      "outputs": [
        {
          "output_type": "execute_result",
          "data": {
            "text/plain": [
              "3.1"
            ]
          },
          "metadata": {},
          "execution_count": 300
        }
      ],
      "source": [
        "round(3.14, 1) # round toma 2 argumentos, el primer argumento es el número a redondear y el segundo es el número de decimales deseados"
      ]
    },
    {
      "cell_type": "markdown",
      "metadata": {
        "id": "RV2Xqbb0KK0V"
      },
      "source": [
        "Algunas funciones también requieren que se especifique el nombre del argumento. Por ejemplo, `print()` permite añadir un separador entre los elementos que se van a imprimir. Debe especificar este argumento escribiendo `sep=` e identificando el carácter que se va a imprimir entre los elementos."
      ]
    },
    {
      "cell_type": "code",
      "execution_count": null,
      "metadata": {
        "id": "CxdykqDfLLdI",
        "colab": {
          "base_uri": "https://localhost:8080/"
        },
        "outputId": "71fd22e5-9fc1-46c4-c7fb-134545a8b6d2"
      },
      "outputs": [
        {
          "output_type": "stream",
          "name": "stdout",
          "text": [
            "please...bring...snacks\n"
          ]
        }
      ],
      "source": [
        "print('please', 'bring', 'snacks', sep='...')"
      ]
    },
    {
      "cell_type": "markdown",
      "metadata": {
        "id": "1sKrirW4ypCj"
      },
      "source": [
        "Una lista completa de las funciones integradas de Python: https://docs.python.org/3/library/functions.html.\n",
        "\n",
        "Algunas de las funciones más importantes son las que obligan a las variables a cambiar de tipo, como set(), str() y range(), entre otras.\n",
        "\n",
        "En la mayoría de los casos, vas a cargar una **librería** de nuevas funciones para agregar a estas funciones integradas."
      ]
    },
    {
      "cell_type": "markdown",
      "metadata": {
        "id": "dN7carUw5JLT"
      },
      "source": [
        "### Crear Funciones\n",
        "\n",
        "Es muy fácil crear tu propia funcion en Python. La forma que necesitás es:\n",
        "\n",
        "\n",
        "```\n",
        "def function_name (arg1, arg2 = default_value, arg3 ...):\n",
        "    ...arg1...arg2...arg3...\n",
        "    return val;\n",
        "```\n",
        "\n",
        "\n",
        "\n",
        "\n",
        "\n"
      ]
    },
    {
      "cell_type": "code",
      "execution_count": null,
      "metadata": {
        "id": "ykf8qvBq5IY0",
        "colab": {
          "base_uri": "https://localhost:8080/"
        },
        "outputId": "f3ee191f-095f-4e23-d034-fe20b6ce859d"
      },
      "outputs": [
        {
          "output_type": "execute_result",
          "data": {
            "text/plain": [
              "250.0"
            ]
          },
          "metadata": {},
          "execution_count": 302
        }
      ],
      "source": [
        "def div_two(x):\n",
        "    return x/2\n",
        "\n",
        "div_two(500)"
      ]
    },
    {
      "cell_type": "code",
      "execution_count": null,
      "metadata": {
        "id": "kutf8szB9Ytv",
        "colab": {
          "base_uri": "https://localhost:8080/",
          "height": 35
        },
        "outputId": "f09d4593-b7c2-4308-cd03-5c10bc5c7ff9"
      },
      "outputs": [
        {
          "output_type": "execute_result",
          "data": {
            "text/plain": [
              "\"I'll come back...never!\""
            ],
            "application/vnd.google.colaboratory.intrinsic+json": {
              "type": "string"
            }
          },
          "metadata": {},
          "execution_count": 303
        }
      ],
      "source": [
        "def add_dramatic_pause(word1,word2, drama_level=1):\n",
        "  \"\"\" Pone la cantidad deseasa de puntos suspensivos entre palabras.\n",
        "  muy útil si querés mucho drama. \"\"\" # Con tres comillas podés describir la función\n",
        "  dramatic_phrase = word1 + '...'*drama_level + word2\n",
        "  return dramatic_phrase\n",
        "\n",
        "add_dramatic_pause('I\\'ll come back', 'never!') # como drama_level tiene un valor default  1, podemos omitirlo en la llamada si ese nivel está bien."
      ]
    },
    {
      "cell_type": "code",
      "execution_count": null,
      "metadata": {
        "id": "1XUjV3sUBmFx",
        "colab": {
          "base_uri": "https://localhost:8080/",
          "height": 35
        },
        "outputId": "09d47cb9-550d-4a11-d745-d4b411407c30"
      },
      "outputs": [
        {
          "output_type": "execute_result",
          "data": {
            "text/plain": [
              "'please.........bring me a cookie'"
            ],
            "application/vnd.google.colaboratory.intrinsic+json": {
              "type": "string"
            }
          },
          "metadata": {},
          "execution_count": 304
        }
      ],
      "source": [
        "last_words = add_dramatic_pause('please', 'bring me a cookie', drama_level=3) # usando return, le asignás el output a la variable\n",
        "\n",
        "last_words"
      ]
    },
    {
      "cell_type": "code",
      "execution_count": null,
      "metadata": {
        "id": "7iNSBowxES1T",
        "colab": {
          "base_uri": "https://localhost:8080/",
          "height": 35
        },
        "outputId": "e2d0b6de-8885-4db6-ec4f-6a4cb33014ab"
      },
      "outputs": [
        {
          "output_type": "execute_result",
          "data": {
            "text/plain": [
              "\"In my opinion......pineapple doesn't belong on pizza\""
            ],
            "application/vnd.google.colaboratory.intrinsic+json": {
              "type": "string"
            }
          },
          "metadata": {},
          "execution_count": 305
        }
      ],
      "source": [
        "def create_pizza_controversy(): # tu función puede ser la ejecución de otras funciones\n",
        "  pizza_drama = add_dramatic_pause('In my opinion', 'pineapple doesn\\'t belong on pizza', drama_level=2)\n",
        "  return pizza_drama\n",
        "\n",
        "create_pizza_controversy()"
      ]
    },
    {
      "cell_type": "markdown",
      "metadata": {
        "id": "yBX1b_dURFka"
      },
      "source": [
        "## Ayuda\n",
        "\n",
        "Usá `help()` para obtener más información sobre cualquier clase de un objeto o función. Usar comillas es opcional. Si necesitás ayuda sobre una función específica en una librería, primero debás instalarla e importarla.\n",
        "\n",
        "Si escribís `help()` sin argumentos, Python te va a preguntar qué necesitás.\n",
        "\n",
        "Suele ser recomendable leer sobre los diferentes elementos de Python desde el sitio web o los creadores de sus librerías (https://www.python.org/about/help/)."
      ]
    },
    {
      "cell_type": "code",
      "execution_count": null,
      "metadata": {
        "colab": {
          "base_uri": "https://localhost:8080/"
        },
        "id": "c6nz5PuluUu2",
        "outputId": "433d627b-9ef8-4443-e3a4-4736655d1a2b"
      },
      "outputs": [
        {
          "output_type": "stream",
          "name": "stdout",
          "text": [
            "Help on built-in function print in module builtins:\n",
            "\n",
            "print(*args, sep=' ', end='\\n', file=None, flush=False)\n",
            "    Prints the values to a stream, or to sys.stdout by default.\n",
            "\n",
            "    sep\n",
            "      string inserted between values, default a space.\n",
            "    end\n",
            "      string appended after the last value, default a newline.\n",
            "    file\n",
            "      a file-like object (stream); defaults to the current sys.stdout.\n",
            "    flush\n",
            "      whether to forcibly flush the stream.\n",
            "\n"
          ]
        }
      ],
      "source": [
        "help(print)"
      ]
    },
    {
      "cell_type": "code",
      "execution_count": null,
      "metadata": {
        "colab": {
          "base_uri": "https://localhost:8080/"
        },
        "id": "sWut1BxLuXDM",
        "outputId": "1bb01d6c-c26f-4697-f2a0-a0a4129518c6"
      },
      "outputs": [
        {
          "output_type": "stream",
          "name": "stdout",
          "text": [
            "Help on built-in function print in module builtins:\n",
            "\n",
            "print(*args, sep=' ', end='\\n', file=None, flush=False)\n",
            "    Prints the values to a stream, or to sys.stdout by default.\n",
            "\n",
            "    sep\n",
            "      string inserted between values, default a space.\n",
            "    end\n",
            "      string appended after the last value, default a newline.\n",
            "    file\n",
            "      a file-like object (stream); defaults to the current sys.stdout.\n",
            "    flush\n",
            "      whether to forcibly flush the stream.\n",
            "\n"
          ]
        }
      ],
      "source": [
        "help('print')"
      ]
    },
    {
      "cell_type": "markdown",
      "metadata": {
        "id": "uII1A7st52au"
      },
      "source": [
        "Si sos perezoso al escribir, como yo, también podés usar la siguiente forma abreviada para obtener el mismo tipo de output de ayuda."
      ]
    },
    {
      "cell_type": "code",
      "execution_count": null,
      "metadata": {
        "id": "cvcJP0Sn52av"
      },
      "outputs": [],
      "source": [
        "print?"
      ]
    },
    {
      "cell_type": "markdown",
      "metadata": {
        "id": "zkLseolUvDlu"
      },
      "source": [
        "# Más información\n",
        "\n",
        "Se recomienda familiarizarse con los fundamentos de Python para aprovechar todo su potencial. ACá hay principalmente documentación oficial sobre los temas mencionados. Existen muchos otros blogs y videos que explican estos fundamentos con gran detalle. Puede ser útil escuchar estos conceptos varias veces de diferentes personas para comprenderlos por completo.\n",
        "\n",
        "Documentación de Jupyter Notebook: https://jupyter-notebook.readthedocs.io/en/stable/\n",
        "\n",
        "Operaciones matemáticas en Python: https://docs.python.org/2.4/lib/typesnumeric.html\n",
        "\n",
        "Documentación de Python sobre tipos de datos simples: https://docs.python.org/3/library/stdtypes.html\n",
        "\n",
        "Documentación para Loops: https://docs.python.org/3/tutorial/controlflow.html\n",
        "\n",
        "Documentación para funciones: https://docs.python.org/3/tutorial/controlflow.html#defining-functions\n",
        "\n",
        "\n",
        "Documentación para instalación de paquetes: https://packaging.python.org/tutorials/installing-packages/\n",
        "\n",
        "NumPy Beginner's Tutorial de la página oficial: https://numpy.org/doc/stable/user/absolute_beginners.html\n",
        "\n",
        "pandas Beginner's 10 min Tutorial de la página oficial: https://pandas.pydata.org/docs/user_guide/10min.html#min\n",
        "\n",
        "\n",
        "\n",
        "\n",
        "\n",
        "\n"
      ]
    },
    {
      "cell_type": "markdown",
      "metadata": {
        "id": "MQyby8Gr52av"
      },
      "source": []
    }
  ],
  "metadata": {
    "colab": {
      "provenance": [],
      "include_colab_link": true
    },
    "kernelspec": {
      "display_name": "Python 3 (ipykernel)",
      "language": "python",
      "name": "python3"
    },
    "language_info": {
      "codemirror_mode": {
        "name": "ipython",
        "version": 3
      },
      "file_extension": ".py",
      "mimetype": "text/x-python",
      "name": "python",
      "nbconvert_exporter": "python",
      "pygments_lexer": "ipython3",
      "version": "3.12.4"
    }
  },
  "nbformat": 4,
  "nbformat_minor": 0
}